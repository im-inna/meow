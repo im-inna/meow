{
 "cells": [
  {
   "cell_type": "code",
   "execution_count": 1,
   "id": "049c6ac1-c642-48bd-abf4-5061b6ce97cc",
   "metadata": {},
   "outputs": [
    {
     "name": "stdout",
     "output_type": "stream",
     "text": [
      "Defaulting to user installation because normal site-packages is not writeable\n",
      "Requirement already satisfied: pandas in ./.local/lib/python3.8/site-packages (2.0.3)\n",
      "Requirement already satisfied: pytz>=2020.1 in /opt/conda-spawner-2021123001/envs/jupyterhub/lib/python3.8/site-packages (from pandas) (2021.3)\n",
      "Requirement already satisfied: python-dateutil>=2.8.2 in /opt/conda-spawner-2021123001/envs/jupyterhub/lib/python3.8/site-packages (from pandas) (2.8.2)\n",
      "Requirement already satisfied: numpy>=1.20.3 in ./.local/lib/python3.8/site-packages (from pandas) (1.24.4)\n",
      "Requirement already satisfied: tzdata>=2022.1 in ./.local/lib/python3.8/site-packages (from pandas) (2025.1)\n",
      "Requirement already satisfied: six>=1.5 in /opt/conda-spawner-2021123001/envs/jupyterhub/lib/python3.8/site-packages (from python-dateutil>=2.8.2->pandas) (1.16.0)\n",
      "Note: you may need to restart the kernel to use updated packages.\n"
     ]
    }
   ],
   "source": [
    "pip install pandas"
   ]
  },
  {
   "cell_type": "code",
   "execution_count": 2,
   "id": "dd7ef5fd-12cc-4fe6-b02e-e4a82c27dd91",
   "metadata": {},
   "outputs": [
    {
     "name": "stdout",
     "output_type": "stream",
     "text": [
      "Defaulting to user installation because normal site-packages is not writeable\n",
      "Requirement already satisfied: matplotlib in ./.local/lib/python3.8/site-packages (3.7.5)\n",
      "Requirement already satisfied: python-dateutil>=2.7 in /opt/conda-spawner-2021123001/envs/jupyterhub/lib/python3.8/site-packages (from matplotlib) (2.8.2)\n",
      "Requirement already satisfied: fonttools>=4.22.0 in ./.local/lib/python3.8/site-packages (from matplotlib) (4.56.0)\n",
      "Requirement already satisfied: numpy<2,>=1.20 in ./.local/lib/python3.8/site-packages (from matplotlib) (1.24.4)\n",
      "Requirement already satisfied: importlib-resources>=3.2.0 in /opt/conda-spawner-2021123001/envs/jupyterhub/lib/python3.8/site-packages (from matplotlib) (5.2.0)\n",
      "Requirement already satisfied: contourpy>=1.0.1 in ./.local/lib/python3.8/site-packages (from matplotlib) (1.1.1)\n",
      "Requirement already satisfied: pillow>=6.2.0 in ./.local/lib/python3.8/site-packages (from matplotlib) (10.4.0)\n",
      "Requirement already satisfied: pyparsing>=2.3.1 in /opt/conda-spawner-2021123001/envs/jupyterhub/lib/python3.8/site-packages (from matplotlib) (3.0.4)\n",
      "Requirement already satisfied: packaging>=20.0 in /opt/conda-spawner-2021123001/envs/jupyterhub/lib/python3.8/site-packages (from matplotlib) (21.3)\n",
      "Requirement already satisfied: cycler>=0.10 in ./.local/lib/python3.8/site-packages (from matplotlib) (0.12.1)\n",
      "Requirement already satisfied: kiwisolver>=1.0.1 in ./.local/lib/python3.8/site-packages (from matplotlib) (1.4.7)\n",
      "Requirement already satisfied: zipp>=3.1.0 in /opt/conda-spawner-2021123001/envs/jupyterhub/lib/python3.8/site-packages (from importlib-resources>=3.2.0->matplotlib) (3.6.0)\n",
      "Requirement already satisfied: six>=1.5 in /opt/conda-spawner-2021123001/envs/jupyterhub/lib/python3.8/site-packages (from python-dateutil>=2.7->matplotlib) (1.16.0)\n",
      "Note: you may need to restart the kernel to use updated packages.\n"
     ]
    }
   ],
   "source": [
    "pip install matplotlib"
   ]
  },
  {
   "cell_type": "markdown",
   "id": "bc7af093-218d-4848-84e8-782dd88c3498",
   "metadata": {},
   "source": [
    "чтение таблицы"
   ]
  },
  {
   "cell_type": "code",
   "execution_count": 1,
   "id": "77d8bf58-a988-459c-afda-79b4bf5e9fa6",
   "metadata": {},
   "outputs": [
    {
     "data": {
      "text/html": [
       "<div>\n",
       "<style scoped>\n",
       "    .dataframe tbody tr th:only-of-type {\n",
       "        vertical-align: middle;\n",
       "    }\n",
       "\n",
       "    .dataframe tbody tr th {\n",
       "        vertical-align: top;\n",
       "    }\n",
       "\n",
       "    .dataframe thead th {\n",
       "        text-align: right;\n",
       "    }\n",
       "</style>\n",
       "<table border=\"1\" class=\"dataframe\">\n",
       "  <thead>\n",
       "    <tr style=\"text-align: right;\">\n",
       "      <th></th>\n",
       "      <th>TGTGCCAGCAGCGGTAGGGGGACACTATTGGGCACCTTC</th>\n",
       "      <th>CASSGRGTLLGTF</th>\n",
       "      <th>TRBV7-9</th>\n",
       "      <th>TRBJ1-2</th>\n",
       "    </tr>\n",
       "  </thead>\n",
       "  <tbody>\n",
       "    <tr>\n",
       "      <th>0</th>\n",
       "      <td>TGTGGACGGAAGGACGAGCAGTACTTC</td>\n",
       "      <td>CGRKDEQYF</td>\n",
       "      <td>TRBV20-1</td>\n",
       "      <td>TRBJ2-7</td>\n",
       "    </tr>\n",
       "    <tr>\n",
       "      <th>1</th>\n",
       "      <td>TGCAGTGCTCGGGGCGTCTTCTCTGAAGCTTTCTTT</td>\n",
       "      <td>CSARGVFSEAFF</td>\n",
       "      <td>TRBV20-1</td>\n",
       "      <td>TRBJ1-1</td>\n",
       "    </tr>\n",
       "    <tr>\n",
       "      <th>2</th>\n",
       "      <td>TGTGCCACCAATGACAGGGGGCGCACCTACAATGAGCAGTTCTTC</td>\n",
       "      <td>CATNDRGRTYNEQFF</td>\n",
       "      <td>TRBV24-1</td>\n",
       "      <td>TRBJ2-1</td>\n",
       "    </tr>\n",
       "    <tr>\n",
       "      <th>3</th>\n",
       "      <td>TGTGCCAGCAGTTTAGCTGGACTAGCGGGTTGTCGGAAGTTGACGG...</td>\n",
       "      <td>CASSLAGLAGCRKLTEETQYF</td>\n",
       "      <td>TRBV27</td>\n",
       "      <td>TRBJ2-5</td>\n",
       "    </tr>\n",
       "    <tr>\n",
       "      <th>4</th>\n",
       "      <td>TGTGCCAGCAGCGTAGCAGGGGCGGGGAGTAGCTCCTACGAGCAGT...</td>\n",
       "      <td>CASSVAGAGSSSYEQYF</td>\n",
       "      <td>TRBV9</td>\n",
       "      <td>TRBJ2-7</td>\n",
       "    </tr>\n",
       "    <tr>\n",
       "      <th>...</th>\n",
       "      <td>...</td>\n",
       "      <td>...</td>\n",
       "      <td>...</td>\n",
       "      <td>...</td>\n",
       "    </tr>\n",
       "    <tr>\n",
       "      <th>9999994</th>\n",
       "      <td>TGTGCCAGCAGTTACTCGACCCGCCCGGTGCGGACCGGGGAGCTGT...</td>\n",
       "      <td>CASSYSTRPVRTGELFF</td>\n",
       "      <td>TRBV6-5</td>\n",
       "      <td>TRBJ2-2</td>\n",
       "    </tr>\n",
       "    <tr>\n",
       "      <th>9999995</th>\n",
       "      <td>TGTGCCCCGGAGGGGGAGAGGGGGGGGTCCTACGAGCAGTACTTC</td>\n",
       "      <td>CAPEGERGGSYEQYF</td>\n",
       "      <td>TRBV24-1</td>\n",
       "      <td>TRBJ2-7</td>\n",
       "    </tr>\n",
       "    <tr>\n",
       "      <th>9999996</th>\n",
       "      <td>TGTGCCAGCAGCCAAGACCCGGGACAGGGTTCGGCTTTCTTT</td>\n",
       "      <td>CASSQDPGQGSAFF</td>\n",
       "      <td>TRBV3-1</td>\n",
       "      <td>TRBJ1-1</td>\n",
       "    </tr>\n",
       "    <tr>\n",
       "      <th>9999997</th>\n",
       "      <td>TGCAGTGCTAGAGATCGCCGGGACAGGGGGAACACTGAAGCTTTCTTT</td>\n",
       "      <td>CSARDRRDRGNTEAFF</td>\n",
       "      <td>TRBV20-1</td>\n",
       "      <td>TRBJ1-1</td>\n",
       "    </tr>\n",
       "    <tr>\n",
       "      <th>9999998</th>\n",
       "      <td>TGTGCCAGCTCACCACCCTGCCGGCGCCTTAGCTATCTCACAGATA...</td>\n",
       "      <td>CASSPPCRRLSYLTDTQYF</td>\n",
       "      <td>TRBV18</td>\n",
       "      <td>TRBJ2-3</td>\n",
       "    </tr>\n",
       "  </tbody>\n",
       "</table>\n",
       "<p>9999999 rows × 4 columns</p>\n",
       "</div>"
      ],
      "text/plain": [
       "                   TGTGCCAGCAGCGGTAGGGGGACACTATTGGGCACCTTC  \\\n",
       "0                              TGTGGACGGAAGGACGAGCAGTACTTC   \n",
       "1                     TGCAGTGCTCGGGGCGTCTTCTCTGAAGCTTTCTTT   \n",
       "2            TGTGCCACCAATGACAGGGGGCGCACCTACAATGAGCAGTTCTTC   \n",
       "3        TGTGCCAGCAGTTTAGCTGGACTAGCGGGTTGTCGGAAGTTGACGG...   \n",
       "4        TGTGCCAGCAGCGTAGCAGGGGCGGGGAGTAGCTCCTACGAGCAGT...   \n",
       "...                                                    ...   \n",
       "9999994  TGTGCCAGCAGTTACTCGACCCGCCCGGTGCGGACCGGGGAGCTGT...   \n",
       "9999995      TGTGCCCCGGAGGGGGAGAGGGGGGGGTCCTACGAGCAGTACTTC   \n",
       "9999996         TGTGCCAGCAGCCAAGACCCGGGACAGGGTTCGGCTTTCTTT   \n",
       "9999997   TGCAGTGCTAGAGATCGCCGGGACAGGGGGAACACTGAAGCTTTCTTT   \n",
       "9999998  TGTGCCAGCTCACCACCCTGCCGGCGCCTTAGCTATCTCACAGATA...   \n",
       "\n",
       "                 CASSGRGTLLGTF   TRBV7-9  TRBJ1-2  \n",
       "0                    CGRKDEQYF  TRBV20-1  TRBJ2-7  \n",
       "1                 CSARGVFSEAFF  TRBV20-1  TRBJ1-1  \n",
       "2              CATNDRGRTYNEQFF  TRBV24-1  TRBJ2-1  \n",
       "3        CASSLAGLAGCRKLTEETQYF    TRBV27  TRBJ2-5  \n",
       "4            CASSVAGAGSSSYEQYF     TRBV9  TRBJ2-7  \n",
       "...                        ...       ...      ...  \n",
       "9999994      CASSYSTRPVRTGELFF   TRBV6-5  TRBJ2-2  \n",
       "9999995        CAPEGERGGSYEQYF  TRBV24-1  TRBJ2-7  \n",
       "9999996         CASSQDPGQGSAFF   TRBV3-1  TRBJ1-1  \n",
       "9999997       CSARDRRDRGNTEAFF  TRBV20-1  TRBJ1-1  \n",
       "9999998    CASSPPCRRLSYLTDTQYF    TRBV18  TRBJ2-3  \n",
       "\n",
       "[9999999 rows x 4 columns]"
      ]
     },
     "execution_count": 1,
     "metadata": {},
     "output_type": "execute_result"
    }
   ],
   "source": [
    "import pandas as pd\n",
    "import matplotlib.pyplot as plt\n",
    "file_path = '~/class_2_1/TRB_10_7/TRB_10_7.tsv'\n",
    "df = pd.read_csv(file_path, sep='\\t')\n",
    "df"
   ]
  },
  {
   "cell_type": "markdown",
   "id": "f9b9cbb6-a9e9-4c60-9eb7-8fdf1206a247",
   "metadata": {},
   "source": [
    "график"
   ]
  },
  {
   "cell_type": "code",
   "execution_count": 5,
   "id": "67a13f03-53cd-489d-b538-64c4de97b550",
   "metadata": {},
   "outputs": [
    {
     "data": {
      "text/plain": [
       "Text(0, 0.5, 'распределение кого-то там')"
      ]
     },
     "execution_count": 5,
     "metadata": {},
     "output_type": "execute_result"
    },
    {
     "data": {
      "image/png": "[encoded data removed]",
      "text/plain": [
       "<Figure size 1152x720 with 1 Axes>"
      ]
     },
     "metadata": {
      "needs_background": "light"
     },
     "output_type": "display_data"
    }
   ],
   "source": [
    "plt.figure(figsize=(16, 10))\n",
    "b = df['TRBJ1-2'].value_counts()\n",
    "plt.bar(b.index, b.values, color='pink')\n",
    "plt.title ('что-то')\n",
    "plt.xlabel('кто-то там')\n",
    "plt.ylabel('распределение кого-то там')"
   ]
  },
  {
   "cell_type": "markdown",
   "id": "f20887fe-b6c6-4a6e-978d-aed7a54c14d8",
   "metadata": {},
   "source": [
    "вставка изображения"
   ]
  },
  {
   "cell_type": "code",
   "execution_count": 6,
   "id": "8a252fc9-3b79-472e-8de8-3c060273e484",
   "metadata": {},
   "outputs": [
    {
     "name": "stdout",
     "output_type": "stream",
     "text": [
      "Defaulting to user installation because normal site-packages is not writeable\n",
      "Requirement already satisfied: ipython in /opt/conda-spawner-2021123001/envs/jupyterhub/lib/python3.8/site-packages (7.29.0)\n",
      "Requirement already satisfied: setuptools>=18.5 in /opt/conda-spawner-2021123001/envs/jupyterhub/lib/python3.8/site-packages (from ipython) (58.0.4)\n",
      "Requirement already satisfied: pygments in /opt/conda-spawner-2021123001/envs/jupyterhub/lib/python3.8/site-packages (from ipython) (2.10.0)\n",
      "Requirement already satisfied: matplotlib-inline in /opt/conda-spawner-2021123001/envs/jupyterhub/lib/python3.8/site-packages (from ipython) (0.1.2)\n",
      "Requirement already satisfied: backcall in /opt/conda-spawner-2021123001/envs/jupyterhub/lib/python3.8/site-packages (from ipython) (0.2.0)\n",
      "Requirement already satisfied: pexpect>4.3 in /opt/conda-spawner-2021123001/envs/jupyterhub/lib/python3.8/site-packages (from ipython) (4.8.0)\n",
      "Requirement already satisfied: decorator in /opt/conda-spawner-2021123001/envs/jupyterhub/lib/python3.8/site-packages (from ipython) (5.1.0)\n",
      "Requirement already satisfied: traitlets>=4.2 in /opt/conda-spawner-2021123001/envs/jupyterhub/lib/python3.8/site-packages (from ipython) (5.1.1)\n",
      "Requirement already satisfied: prompt-toolkit!=3.0.0,!=3.0.1,<3.1.0,>=2.0.0 in /opt/conda-spawner-2021123001/envs/jupyterhub/lib/python3.8/site-packages (from ipython) (3.0.20)\n",
      "Requirement already satisfied: jedi>=0.16 in /opt/conda-spawner-2021123001/envs/jupyterhub/lib/python3.8/site-packages (from ipython) (0.18.0)\n",
      "Requirement already satisfied: pickleshare in /opt/conda-spawner-2021123001/envs/jupyterhub/lib/python3.8/site-packages (from ipython) (0.7.5)\n",
      "Requirement already satisfied: parso<0.9.0,>=0.8.0 in /opt/conda-spawner-2021123001/envs/jupyterhub/lib/python3.8/site-packages (from jedi>=0.16->ipython) (0.8.2)\n",
      "Requirement already satisfied: ptyprocess>=0.5 in /opt/conda-spawner-2021123001/envs/jupyterhub/lib/python3.8/site-packages (from pexpect>4.3->ipython) (0.7.0)\n",
      "Requirement already satisfied: wcwidth in /opt/conda-spawner-2021123001/envs/jupyterhub/lib/python3.8/site-packages (from prompt-toolkit!=3.0.0,!=3.0.1,<3.1.0,>=2.0.0->ipython) (0.2.5)\n",
      "Note: you may need to restart the kernel to use updated packages.\n"
     ]
    }
   ],
   "source": [
    "pip install ipython"
   ]
  },
  {
   "cell_type": "code",
   "execution_count": 1,
   "id": "3c9b1729-bf13-4068-b80f-f8ac2ca4b004",
   "metadata": {},
   "outputs": [
    {
     "name": "stdout",
     "output_type": "stream",
     "text": [
      "7.29.0\n"
     ]
    }
   ],
   "source": [
    "import IPython\n",
    "print(IPython.__version__)"
   ]
  },
  {
   "cell_type": "code",
   "execution_count": 4,
   "id": "a3b7723b-7cbe-4836-8cf8-e414afca35b9",
   "metadata": {
    "tags": []
   },
   "outputs": [
    {
     "data": {
      "text/html": [
       "<img src=\"https://images.app.goo.gl/2bHXLLBeggJCMUHg9\"/>"
      ],
      "text/plain": [
       "<IPython.core.display.Image object>"
      ]
     },
     "execution_count": 4,
     "metadata": {},
     "output_type": "execute_result"
    }
   ],
   "source": [
    "from IPython.display import Image\n",
    "\n",
    "Image(url='https://images.app.goo.gl/2bHXLLBeggJCMUHg9')"
   ]
  },
  {
   "cell_type": "markdown",
   "id": "3508461b-3815-49f0-bf86-b60bd9653f5e",
   "metadata": {},
   "source": []
  },
  {
   "cell_type": "code",
   "execution_count": 7,
   "id": "f0bbff8c-cebd-4c4b-b1aa-6d1dd8ab527e",
   "metadata": {},
   "outputs": [
    {
     "name": "stdout",
     "output_type": "stream",
     "text": [
      "Defaulting to user installation because normal site-packages is not writeable\n",
      "Collecting rpy2\n",
      "  Downloading rpy2-3.5.17.tar.gz (220 kB)\n",
      "\u001b[K     |████████████████████████████████| 220 kB 2.3 MB/s eta 0:00:01\n",
      "\u001b[?25h  Installing build dependencies ... \u001b[?25ldone\n",
      "\u001b[?25h  Getting requirements to build wheel ... \u001b[?25ldone\n",
      "\u001b[?25h    Preparing wheel metadata ... \u001b[?25ldone\n",
      "\u001b[?25hRequirement already satisfied: jinja2 in /opt/conda-spawner-2021123001/envs/jupyterhub/lib/python3.8/site-packages (from rpy2) (3.0.2)\n",
      "Collecting cffi>=1.15.1\n",
      "  Using cached cffi-1.17.1-cp38-cp38-manylinux_2_17_x86_64.manylinux2014_x86_64.whl (446 kB)\n",
      "Collecting tzlocal\n",
      "  Downloading tzlocal-5.2-py3-none-any.whl (17 kB)\n",
      "Collecting backports.zoneinfo\n",
      "  Downloading backports.zoneinfo-0.2.1-cp38-cp38-manylinux1_x86_64.whl (74 kB)\n",
      "\u001b[K     |████████████████████████████████| 74 kB 139 kB/s  eta 0:00:01\n",
      "\u001b[?25hRequirement already satisfied: pycparser in /opt/conda-spawner-2021123001/envs/jupyterhub/lib/python3.8/site-packages (from cffi>=1.15.1->rpy2) (2.21)\n",
      "Requirement already satisfied: MarkupSafe>=2.0 in /opt/conda-spawner-2021123001/envs/jupyterhub/lib/python3.8/site-packages (from jinja2->rpy2) (2.0.1)\n",
      "Building wheels for collected packages: rpy2\n",
      "  Building wheel for rpy2 (PEP 517) ... \u001b[?25ldone\n",
      "\u001b[?25h  Created wheel for rpy2: filename=rpy2-3.5.17-cp38-cp38-linux_x86_64.whl size=384502 sha256=98900a7ff66d75b6dc758e2b19b78053665a9e513b7445b34bb4647788b4e5a9\n",
      "  Stored in directory: /home/ikulikova/.cache/pip/wheels/72/7a/08/1d4bd9a7eac6be866c8a78500c0d0006457f022defe8b1f172\n",
      "Successfully built rpy2\n",
      "Installing collected packages: backports.zoneinfo, tzlocal, cffi, rpy2\n",
      "Successfully installed backports.zoneinfo-0.2.1 cffi-1.17.1 rpy2-3.5.17 tzlocal-5.2\n",
      "Note: you may need to restart the kernel to use updated packages.\n"
     ]
    }
   ],
   "source": [
    "pip install rpy2"
   ]
  },
  {
   "cell_type": "code",
   "execution_count": 2,
   "id": "8a885e26-cc80-4aec-90da-003581f55508",
   "metadata": {},
   "outputs": [],
   "source": [
    "import pandas as pd\n",
    "from rpy2.robjects import pandas2ri\n",
    "from rpy2.robjects.packages import importr\n",
    "import rpy2.robjects as robjects"
   ]
  },
  {
   "cell_type": "code",
   "execution_count": null,
   "id": "f3c237ae-cbe7-4916-b746-f25cda3fd332",
   "metadata": {},
   "outputs": [],
   "source": []
  }
 ],
 "metadata": {
  "kernelspec": {
   "display_name": "Python [conda env:jupyterhub] *",
   "language": "python",
   "name": "conda-env-jupyterhub-py"
  },
  "language_info": {
   "codemirror_mode": {
    "name": "ipython",
    "version": 3
   },
   "file_extension": ".py",
   "mimetype": "text/x-python",
   "name": "python",
   "nbconvert_exporter": "python",
   "pygments_lexer": "ipython3",
   "version": "3.8.12"
  }
 },
 "nbformat": 4,
 "nbformat_minor": 5
}
