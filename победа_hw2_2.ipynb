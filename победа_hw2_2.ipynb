{
 "cells": [
  {
   "cell_type": "code",
   "execution_count": 2,
   "id": "049c6ac1-c642-48bd-abf4-5061b6ce97cc",
   "metadata": {
    "tags": []
   },
   "outputs": [
    {
     "name": "stdout",
     "output_type": "stream",
     "text": [
      "Defaulting to user installation because normal site-packages is not writeable\n",
      "Requirement already satisfied: pandas in ./.local/lib/python3.8/site-packages (2.0.3)\n",
      "Requirement already satisfied: numpy>=1.20.3 in ./.local/lib/python3.8/site-packages (from pandas) (1.24.4)\n",
      "Requirement already satisfied: python-dateutil>=2.8.2 in /opt/conda-spawner-2021123001/envs/jupyterhub/lib/python3.8/site-packages (from pandas) (2.8.2)\n",
      "Requirement already satisfied: tzdata>=2022.1 in ./.local/lib/python3.8/site-packages (from pandas) (2025.1)\n",
      "Requirement already satisfied: pytz>=2020.1 in /opt/conda-spawner-2021123001/envs/jupyterhub/lib/python3.8/site-packages (from pandas) (2021.3)\n",
      "Requirement already satisfied: six>=1.5 in /opt/conda-spawner-2021123001/envs/jupyterhub/lib/python3.8/site-packages (from python-dateutil>=2.8.2->pandas) (1.16.0)\n",
      "Note: you may need to restart the kernel to use updated packages.\n"
     ]
    }
   ],
   "source": [
    "pip install pandas"
   ]
  },
  {
   "cell_type": "code",
   "execution_count": 3,
   "id": "dd7ef5fd-12cc-4fe6-b02e-e4a82c27dd91",
   "metadata": {
    "tags": []
   },
   "outputs": [
    {
     "name": "stdout",
     "output_type": "stream",
     "text": [
      "Defaulting to user installation because normal site-packages is not writeable\n",
      "Requirement already satisfied: matplotlib in ./.local/lib/python3.8/site-packages (3.7.5)\n",
      "Requirement already satisfied: kiwisolver>=1.0.1 in ./.local/lib/python3.8/site-packages (from matplotlib) (1.4.7)\n",
      "Requirement already satisfied: contourpy>=1.0.1 in ./.local/lib/python3.8/site-packages (from matplotlib) (1.1.1)\n",
      "Requirement already satisfied: pillow>=6.2.0 in ./.local/lib/python3.8/site-packages (from matplotlib) (10.4.0)\n",
      "Requirement already satisfied: python-dateutil>=2.7 in /opt/conda-spawner-2021123001/envs/jupyterhub/lib/python3.8/site-packages (from matplotlib) (2.8.2)\n",
      "Requirement already satisfied: fonttools>=4.22.0 in ./.local/lib/python3.8/site-packages (from matplotlib) (4.56.0)\n",
      "Requirement already satisfied: importlib-resources>=3.2.0 in /opt/conda-spawner-2021123001/envs/jupyterhub/lib/python3.8/site-packages (from matplotlib) (5.2.0)\n",
      "Requirement already satisfied: cycler>=0.10 in ./.local/lib/python3.8/site-packages (from matplotlib) (0.12.1)\n",
      "Requirement already satisfied: packaging>=20.0 in /opt/conda-spawner-2021123001/envs/jupyterhub/lib/python3.8/site-packages (from matplotlib) (21.3)\n",
      "Requirement already satisfied: numpy<2,>=1.20 in ./.local/lib/python3.8/site-packages (from matplotlib) (1.24.4)\n",
      "Requirement already satisfied: pyparsing>=2.3.1 in /opt/conda-spawner-2021123001/envs/jupyterhub/lib/python3.8/site-packages (from matplotlib) (3.0.4)\n",
      "Requirement already satisfied: zipp>=3.1.0 in /opt/conda-spawner-2021123001/envs/jupyterhub/lib/python3.8/site-packages (from importlib-resources>=3.2.0->matplotlib) (3.6.0)\n",
      "Requirement already satisfied: six>=1.5 in /opt/conda-spawner-2021123001/envs/jupyterhub/lib/python3.8/site-packages (from python-dateutil>=2.7->matplotlib) (1.16.0)\n",
      "Note: you may need to restart the kernel to use updated packages.\n"
     ]
    }
   ],
   "source": [
    "pip install matplotlib"
   ]
  },
  {
   "cell_type": "markdown",
   "id": "b8fe1e8a-f118-4022-a3db-a0b33d41b0f8",
   "metadata": {},
   "source": [
    "# работа с таблицей"
   ]
  },
  {
   "cell_type": "markdown",
   "id": "bc7af093-218d-4848-84e8-782dd88c3498",
   "metadata": {},
   "source": [
    "## чтение таблицы"
   ]
  },
  {
   "cell_type": "code",
   "execution_count": 4,
   "id": "77d8bf58-a988-459c-afda-79b4bf5e9fa6",
   "metadata": {},
   "outputs": [
    {
     "data": {
      "text/html": [
       "<div>\n",
       "<style scoped>\n",
       "    .dataframe tbody tr th:only-of-type {\n",
       "        vertical-align: middle;\n",
       "    }\n",
       "\n",
       "    .dataframe tbody tr th {\n",
       "        vertical-align: top;\n",
       "    }\n",
       "\n",
       "    .dataframe thead th {\n",
       "        text-align: right;\n",
       "    }\n",
       "</style>\n",
       "<table border=\"1\" class=\"dataframe\">\n",
       "  <thead>\n",
       "    <tr style=\"text-align: right;\">\n",
       "      <th></th>\n",
       "      <th>TGTGCCAGCAGCGGTAGGGGGACACTATTGGGCACCTTC</th>\n",
       "      <th>CASSGRGTLLGTF</th>\n",
       "      <th>TRBV7-9</th>\n",
       "      <th>TRBJ1-2</th>\n",
       "    </tr>\n",
       "  </thead>\n",
       "  <tbody>\n",
       "    <tr>\n",
       "      <th>0</th>\n",
       "      <td>TGTGGACGGAAGGACGAGCAGTACTTC</td>\n",
       "      <td>CGRKDEQYF</td>\n",
       "      <td>TRBV20-1</td>\n",
       "      <td>TRBJ2-7</td>\n",
       "    </tr>\n",
       "    <tr>\n",
       "      <th>1</th>\n",
       "      <td>TGCAGTGCTCGGGGCGTCTTCTCTGAAGCTTTCTTT</td>\n",
       "      <td>CSARGVFSEAFF</td>\n",
       "      <td>TRBV20-1</td>\n",
       "      <td>TRBJ1-1</td>\n",
       "    </tr>\n",
       "    <tr>\n",
       "      <th>2</th>\n",
       "      <td>TGTGCCACCAATGACAGGGGGCGCACCTACAATGAGCAGTTCTTC</td>\n",
       "      <td>CATNDRGRTYNEQFF</td>\n",
       "      <td>TRBV24-1</td>\n",
       "      <td>TRBJ2-1</td>\n",
       "    </tr>\n",
       "    <tr>\n",
       "      <th>3</th>\n",
       "      <td>TGTGCCAGCAGTTTAGCTGGACTAGCGGGTTGTCGGAAGTTGACGG...</td>\n",
       "      <td>CASSLAGLAGCRKLTEETQYF</td>\n",
       "      <td>TRBV27</td>\n",
       "      <td>TRBJ2-5</td>\n",
       "    </tr>\n",
       "    <tr>\n",
       "      <th>4</th>\n",
       "      <td>TGTGCCAGCAGCGTAGCAGGGGCGGGGAGTAGCTCCTACGAGCAGT...</td>\n",
       "      <td>CASSVAGAGSSSYEQYF</td>\n",
       "      <td>TRBV9</td>\n",
       "      <td>TRBJ2-7</td>\n",
       "    </tr>\n",
       "    <tr>\n",
       "      <th>...</th>\n",
       "      <td>...</td>\n",
       "      <td>...</td>\n",
       "      <td>...</td>\n",
       "      <td>...</td>\n",
       "    </tr>\n",
       "    <tr>\n",
       "      <th>9999994</th>\n",
       "      <td>TGTGCCAGCAGTTACTCGACCCGCCCGGTGCGGACCGGGGAGCTGT...</td>\n",
       "      <td>CASSYSTRPVRTGELFF</td>\n",
       "      <td>TRBV6-5</td>\n",
       "      <td>TRBJ2-2</td>\n",
       "    </tr>\n",
       "    <tr>\n",
       "      <th>9999995</th>\n",
       "      <td>TGTGCCCCGGAGGGGGAGAGGGGGGGGTCCTACGAGCAGTACTTC</td>\n",
       "      <td>CAPEGERGGSYEQYF</td>\n",
       "      <td>TRBV24-1</td>\n",
       "      <td>TRBJ2-7</td>\n",
       "    </tr>\n",
       "    <tr>\n",
       "      <th>9999996</th>\n",
       "      <td>TGTGCCAGCAGCCAAGACCCGGGACAGGGTTCGGCTTTCTTT</td>\n",
       "      <td>CASSQDPGQGSAFF</td>\n",
       "      <td>TRBV3-1</td>\n",
       "      <td>TRBJ1-1</td>\n",
       "    </tr>\n",
       "    <tr>\n",
       "      <th>9999997</th>\n",
       "      <td>TGCAGTGCTAGAGATCGCCGGGACAGGGGGAACACTGAAGCTTTCTTT</td>\n",
       "      <td>CSARDRRDRGNTEAFF</td>\n",
       "      <td>TRBV20-1</td>\n",
       "      <td>TRBJ1-1</td>\n",
       "    </tr>\n",
       "    <tr>\n",
       "      <th>9999998</th>\n",
       "      <td>TGTGCCAGCTCACCACCCTGCCGGCGCCTTAGCTATCTCACAGATA...</td>\n",
       "      <td>CASSPPCRRLSYLTDTQYF</td>\n",
       "      <td>TRBV18</td>\n",
       "      <td>TRBJ2-3</td>\n",
       "    </tr>\n",
       "  </tbody>\n",
       "</table>\n",
       "<p>9999999 rows × 4 columns</p>\n",
       "</div>"
      ],
      "text/plain": [
       "                   TGTGCCAGCAGCGGTAGGGGGACACTATTGGGCACCTTC  \\\n",
       "0                              TGTGGACGGAAGGACGAGCAGTACTTC   \n",
       "1                     TGCAGTGCTCGGGGCGTCTTCTCTGAAGCTTTCTTT   \n",
       "2            TGTGCCACCAATGACAGGGGGCGCACCTACAATGAGCAGTTCTTC   \n",
       "3        TGTGCCAGCAGTTTAGCTGGACTAGCGGGTTGTCGGAAGTTGACGG...   \n",
       "4        TGTGCCAGCAGCGTAGCAGGGGCGGGGAGTAGCTCCTACGAGCAGT...   \n",
       "...                                                    ...   \n",
       "9999994  TGTGCCAGCAGTTACTCGACCCGCCCGGTGCGGACCGGGGAGCTGT...   \n",
       "9999995      TGTGCCCCGGAGGGGGAGAGGGGGGGGTCCTACGAGCAGTACTTC   \n",
       "9999996         TGTGCCAGCAGCCAAGACCCGGGACAGGGTTCGGCTTTCTTT   \n",
       "9999997   TGCAGTGCTAGAGATCGCCGGGACAGGGGGAACACTGAAGCTTTCTTT   \n",
       "9999998  TGTGCCAGCTCACCACCCTGCCGGCGCCTTAGCTATCTCACAGATA...   \n",
       "\n",
       "                 CASSGRGTLLGTF   TRBV7-9  TRBJ1-2  \n",
       "0                    CGRKDEQYF  TRBV20-1  TRBJ2-7  \n",
       "1                 CSARGVFSEAFF  TRBV20-1  TRBJ1-1  \n",
       "2              CATNDRGRTYNEQFF  TRBV24-1  TRBJ2-1  \n",
       "3        CASSLAGLAGCRKLTEETQYF    TRBV27  TRBJ2-5  \n",
       "4            CASSVAGAGSSSYEQYF     TRBV9  TRBJ2-7  \n",
       "...                        ...       ...      ...  \n",
       "9999994      CASSYSTRPVRTGELFF   TRBV6-5  TRBJ2-2  \n",
       "9999995        CAPEGERGGSYEQYF  TRBV24-1  TRBJ2-7  \n",
       "9999996         CASSQDPGQGSAFF   TRBV3-1  TRBJ1-1  \n",
       "9999997       CSARDRRDRGNTEAFF  TRBV20-1  TRBJ1-1  \n",
       "9999998    CASSPPCRRLSYLTDTQYF    TRBV18  TRBJ2-3  \n",
       "\n",
       "[9999999 rows x 4 columns]"
      ]
     },
     "execution_count": 4,
     "metadata": {},
     "output_type": "execute_result"
    }
   ],
   "source": [
    "import pandas as pd\n",
    "import matplotlib.pyplot as plt\n",
    "file_path = '~/class_2_1/TRB_10_7/TRB_10_7.tsv'\n",
    "df = pd.read_csv(file_path, sep='\\t')\n",
    "df"
   ]
  },
  {
   "cell_type": "markdown",
   "id": "f9b9cbb6-a9e9-4c60-9eb7-8fdf1206a247",
   "metadata": {},
   "source": [
    "## график"
   ]
  },
  {
   "cell_type": "code",
   "execution_count": 24,
   "id": "67a13f03-53cd-489d-b538-64c4de97b550",
   "metadata": {},
   "outputs": [
    {
     "data": {
      "text/plain": [
       "Text(0, 0.5, 'counts')"
      ]
     },
     "execution_count": 24,
     "metadata": {},
     "output_type": "execute_result"
    },
    {
     "data": {
      "image/png": "[encoded data removed]",
      "text/plain": [
       "<Figure size 1152x720 with 1 Axes>"
      ]
     },
     "metadata": {
      "needs_background": "light"
     },
     "output_type": "display_data"
    }
   ],
   "source": [
    "plt.figure(figsize=(16, 10))\n",
    "trbj_counts = df['TRBJ1-2'].value_counts()\n",
    "plt.bar(trbj_counts.index, trbj_counts.values, color='pink')\n",
    "plt.title ('что-то')\n",
    "plt.xlabel('trbj')\n",
    "plt.ylabel('counts')"
   ]
  },
  {
   "cell_type": "markdown",
   "id": "f20887fe-b6c6-4a6e-978d-aed7a54c14d8",
   "metadata": {},
   "source": [
    "# вставка изображения"
   ]
  },
  {
   "cell_type": "code",
   "execution_count": 6,
   "id": "8a252fc9-3b79-472e-8de8-3c060273e484",
   "metadata": {
    "tags": []
   },
   "outputs": [
    {
     "name": "stdout",
     "output_type": "stream",
     "text": [
      "Defaulting to user installation because normal site-packages is not writeable\n",
      "Requirement already satisfied: ipython in /opt/conda-spawner-2021123001/envs/jupyterhub/lib/python3.8/site-packages (7.29.0)\n",
      "Requirement already satisfied: jedi>=0.16 in /opt/conda-spawner-2021123001/envs/jupyterhub/lib/python3.8/site-packages (from ipython) (0.18.0)\n",
      "Requirement already satisfied: traitlets>=4.2 in /opt/conda-spawner-2021123001/envs/jupyterhub/lib/python3.8/site-packages (from ipython) (5.1.1)\n",
      "Requirement already satisfied: pexpect>4.3 in /opt/conda-spawner-2021123001/envs/jupyterhub/lib/python3.8/site-packages (from ipython) (4.8.0)\n",
      "Requirement already satisfied: pickleshare in /opt/conda-spawner-2021123001/envs/jupyterhub/lib/python3.8/site-packages (from ipython) (0.7.5)\n",
      "Requirement already satisfied: backcall in /opt/conda-spawner-2021123001/envs/jupyterhub/lib/python3.8/site-packages (from ipython) (0.2.0)\n",
      "Requirement already satisfied: prompt-toolkit!=3.0.0,!=3.0.1,<3.1.0,>=2.0.0 in /opt/conda-spawner-2021123001/envs/jupyterhub/lib/python3.8/site-packages (from ipython) (3.0.20)\n",
      "Requirement already satisfied: decorator in /opt/conda-spawner-2021123001/envs/jupyterhub/lib/python3.8/site-packages (from ipython) (5.1.0)\n",
      "Requirement already satisfied: pygments in /opt/conda-spawner-2021123001/envs/jupyterhub/lib/python3.8/site-packages (from ipython) (2.10.0)\n",
      "Requirement already satisfied: matplotlib-inline in /opt/conda-spawner-2021123001/envs/jupyterhub/lib/python3.8/site-packages (from ipython) (0.1.2)\n",
      "Requirement already satisfied: setuptools>=18.5 in /opt/conda-spawner-2021123001/envs/jupyterhub/lib/python3.8/site-packages (from ipython) (58.0.4)\n",
      "Requirement already satisfied: parso<0.9.0,>=0.8.0 in /opt/conda-spawner-2021123001/envs/jupyterhub/lib/python3.8/site-packages (from jedi>=0.16->ipython) (0.8.2)\n",
      "Requirement already satisfied: ptyprocess>=0.5 in /opt/conda-spawner-2021123001/envs/jupyterhub/lib/python3.8/site-packages (from pexpect>4.3->ipython) (0.7.0)\n",
      "Requirement already satisfied: wcwidth in /opt/conda-spawner-2021123001/envs/jupyterhub/lib/python3.8/site-packages (from prompt-toolkit!=3.0.0,!=3.0.1,<3.1.0,>=2.0.0->ipython) (0.2.5)\n",
      "Note: you may need to restart the kernel to use updated packages.\n"
     ]
    }
   ],
   "source": [
    "pip install ipython"
   ]
  },
  {
   "cell_type": "code",
   "execution_count": 7,
   "id": "3c9b1729-bf13-4068-b80f-f8ac2ca4b004",
   "metadata": {},
   "outputs": [
    {
     "name": "stdout",
     "output_type": "stream",
     "text": [
      "7.29.0\n"
     ]
    }
   ],
   "source": [
    "import IPython\n",
    "print(IPython.__version__)"
   ]
  },
  {
   "cell_type": "code",
   "execution_count": 8,
   "id": "a3b7723b-7cbe-4836-8cf8-e414afca35b9",
   "metadata": {
    "tags": []
   },
   "outputs": [
    {
     "data": {
      "text/html": [
       "<img src=\"https://images.app.goo.gl/2bHXLLBeggJCMUHg9\"/>"
      ],
      "text/plain": [
       "<IPython.core.display.Image object>"
      ]
     },
     "execution_count": 8,
     "metadata": {},
     "output_type": "execute_result"
    }
   ],
   "source": [
    "from IPython.display import Image\n",
    "\n",
    "Image(url='https://images.app.goo.gl/2bHXLLBeggJCMUHg9')"
   ]
  },
  {
   "cell_type": "code",
   "execution_count": 9,
   "id": "ce52d3bc-936b-46f2-95fb-d4b40797cdb4",
   "metadata": {},
   "outputs": [
    {
     "data": {
      "image/jpeg": "[encoded data removed]",
      "text/plain": [
       "<IPython.core.display.Image object>"
      ]
     },
     "execution_count": 9,
     "metadata": {},
     "output_type": "execute_result"
    }
   ],
   "source": [
    "from IPython.display import Image\n",
    "\n",
    "Image(filename='meladje.jpg')"
   ]
  },
  {
   "cell_type": "markdown",
   "id": "54333d31-0ce1-4b5d-9dbc-5d55033501e8",
   "metadata": {},
   "source": [
    "# работа с R"
   ]
  },
  {
   "cell_type": "code",
   "execution_count": 10,
   "id": "f0bbff8c-cebd-4c4b-b1aa-6d1dd8ab527e",
   "metadata": {
    "tags": []
   },
   "outputs": [
    {
     "name": "stdout",
     "output_type": "stream",
     "text": [
      "Defaulting to user installation because normal site-packages is not writeable\n",
      "Requirement already satisfied: rpy2 in ./.local/lib/python3.8/site-packages (3.5.17)\n",
      "Requirement already satisfied: tzlocal in ./.local/lib/python3.8/site-packages (from rpy2) (5.2)\n",
      "Requirement already satisfied: jinja2 in /opt/conda-spawner-2021123001/envs/jupyterhub/lib/python3.8/site-packages (from rpy2) (3.0.2)\n",
      "Requirement already satisfied: backports.zoneinfo in ./.local/lib/python3.8/site-packages (from rpy2) (0.2.1)\n",
      "Requirement already satisfied: cffi>=1.15.1 in ./.local/lib/python3.8/site-packages (from rpy2) (1.17.1)\n",
      "Requirement already satisfied: pycparser in /opt/conda-spawner-2021123001/envs/jupyterhub/lib/python3.8/site-packages (from cffi>=1.15.1->rpy2) (2.21)\n",
      "Requirement already satisfied: MarkupSafe>=2.0 in /opt/conda-spawner-2021123001/envs/jupyterhub/lib/python3.8/site-packages (from jinja2->rpy2) (2.0.1)\n",
      "Note: you may need to restart the kernel to use updated packages.\n"
     ]
    }
   ],
   "source": [
    "pip install rpy2"
   ]
  },
  {
   "cell_type": "code",
   "execution_count": 11,
   "id": "086327b6-3981-4056-896e-62748666b714",
   "metadata": {},
   "outputs": [],
   "source": [
    "%load_ext rpy2.ipython"
   ]
  },
  {
   "cell_type": "code",
   "execution_count": 12,
   "id": "8a885e26-cc80-4aec-90da-003581f55508",
   "metadata": {},
   "outputs": [],
   "source": [
    "from rpy2.robjects import pandas2ri\n",
    "pandas2ri.activate()"
   ]
  },
  {
   "cell_type": "code",
   "execution_count": 13,
   "id": "f3c237ae-cbe7-4916-b746-f25cda3fd332",
   "metadata": {},
   "outputs": [
    {
     "name": "stdout",
     "output_type": "stream",
     "text": [
      "--- Please select a CRAN mirror for use in this session ---\n",
      "Secure CRAN mirrors \n",
      "\n",
      " 1: 0-Cloud [https]\n",
      " 2: Australia (Canberra) [https]\n",
      " 3: Australia (Melbourne 1) [https]\n",
      " 4: Australia (Melbourne 2) [https]\n",
      " 5: Austria (Wien 1) [https]\n",
      " 6: Belgium (Brussels) [https]\n",
      " 7: Brazil (PR) [https]\n",
      " 8: Brazil (SP 1) [https]\n",
      " 9: Brazil (SP 2) [https]\n",
      "10: Bulgaria [https]\n",
      "11: Canada (MB) [https]\n",
      "12: Canada (ON 1) [https]\n",
      "13: Canada (ON 2) [https]\n",
      "14: Chile (Santiago) [https]\n",
      "15: China (Beijing 2) [https]\n",
      "16: China (Beijing 3) [https]\n",
      "17: China (Hefei) [https]\n",
      "18: China (Hong Kong) [https]\n",
      "19: China (Jinan) [https]\n",
      "20: China (Lanzhou) [https]\n",
      "21: China (Nanjing) [https]\n",
      "22: China (Shanghai 2) [https]\n",
      "23: China (Shenzhen) [https]\n",
      "24: China (Wuhan) [https]\n",
      "25: Colombia (Cali) [https]\n",
      "26: Costa Rica [https]\n",
      "27: Cyprus [https]\n",
      "28: Czech Republic [https]\n",
      "29: Denmark [https]\n",
      "30: East Asia [https]\n",
      "31: Ecuador (Cuenca) [https]\n",
      "32: France (Lyon 1) [https]\n",
      "33: France (Lyon 2) [https]\n",
      "34: France (Paris 1) [https]\n",
      "35: Germany (Erlangen) [https]\n",
      "36: Germany (Göttingen) [https]\n",
      "37: Germany (Leipzig) [https]\n",
      "38: Germany (Münster) [https]\n",
      "39: Greece [https]\n",
      "40: Hungary [https]\n",
      "41: Iceland [https]\n",
      "42: India (Bengaluru) [https]\n",
      "43: India (Bhubaneswar) [https]\n",
      "44: Indonesia (Banda Aceh) [https]\n",
      "45: Iran (Mashhad) [https]\n",
      "46: Italy (Milano) [https]\n",
      "47: Italy (Padua) [https]\n",
      "48: Japan (Yonezawa) [https]\n",
      "49: Korea (Gyeongsan-si) [https]\n",
      "50: Mexico (Mexico City) [https]\n",
      "51: Mexico (Texcoco) [https]\n",
      "52: Morocco [https]\n",
      "53: Netherlands (Dronten) [https]\n",
      "54: New Zealand [https]\n",
      "55: Norway [https]\n",
      "56: South Africa (Johannesburg) [https]\n",
      "57: Spain (A Coruña) [https]\n",
      "58: Spain (Madrid) [https]\n",
      "59: Sweden (Umeå) [https]\n",
      "60: Switzerland (Zurich 1) [https]\n",
      "61: Taiwan (Taipei) [https]\n",
      "62: Turkey (Denizli) [https]\n",
      "63: UK (Bristol) [https]\n",
      "64: UK (London 1) [https]\n",
      "65: USA (IA) [https]\n",
      "66: USA (MI) [https]\n",
      "67: USA (MO) [https]\n",
      "68: USA (OH) [https]\n",
      "69: USA (OR) [https]\n",
      "70: USA (PA 1) [https]\n",
      "71: USA (TN) [https]\n",
      "72: USA (UT) [https]\n",
      "73: United Arab Emirates [https]\n",
      "74: Uruguay [https]\n",
      "75: (other mirrors)\n",
      "\n"
     ]
    },
    {
     "name": "stdin",
     "output_type": "stream",
     "text": [
      "Selection:  6\n"
     ]
    },
    {
     "name": "stderr",
     "output_type": "stream",
     "text": [
      "* installing *source* package ‘ggplot2’ ...\n",
      "** package ‘ggplot2’ successfully unpacked and MD5 sums checked\n",
      "** using staged installation\n",
      "** R\n",
      "** data\n",
      "*** moving datasets to lazyload DB\n",
      "** inst\n",
      "** byte-compile and prepare package for lazy loading\n",
      "** help\n",
      "*** installing help indices\n",
      "*** copying figures\n",
      "** building package indices\n",
      "** installing vignettes\n",
      "** testing if installed package can be loaded from temporary location\n",
      "** testing if installed package can be loaded from final location\n",
      "** testing if installed package keeps a record of temporary installation path\n",
      "* DONE (ggplot2)\n"
     ]
    },
    {
     "data": {
      "text/plain": [
       "Installing package into ‘/home/ikulikova/R/x86_64-pc-linux-gnu-library/4.1’\n",
       "(as ‘lib’ is unspecified)\n",
       "trying URL 'https://ftp.belnet.be/mirror/CRAN/src/contrib/ggplot2_3.5.1.tar.gz'\n",
       "Content type 'application/octet-stream' length 3604371 bytes (3.4 MB)\n",
       "==================================================\n",
       "downloaded 3.4 MB\n",
       "\n",
       "\n",
       "The downloaded source packages are in\n",
       "\t‘/scratch/Rtmp1duSpO/downloaded_packages’\n"
      ]
     },
     "metadata": {},
     "output_type": "display_data"
    }
   ],
   "source": [
    "%%R\n",
    "install.packages(\"ggplot2\")"
   ]
  },
  {
   "cell_type": "markdown",
   "id": "a453e80f-5df6-4824-983a-ce656fe6364b",
   "metadata": {},
   "source": [
    "преобразуем датасет в R объект"
   ]
  },
  {
   "cell_type": "code",
   "execution_count": 16,
   "id": "b0fa2c13-ec9c-4229-a15c-747675df31be",
   "metadata": {},
   "outputs": [],
   "source": [
    "trbj_counts_df = pd.DataFrame(trbj_counts)"
   ]
  },
  {
   "cell_type": "code",
   "execution_count": 17,
   "id": "eba92248-9440-4b3e-8928-4a6ec94e3a7c",
   "metadata": {},
   "outputs": [],
   "source": [
    "trbj_counts_df = trbj_counts.reset_index()\n",
    "trbj_counts_df.columns = ['trbj', 'count']"
   ]
  },
  {
   "cell_type": "code",
   "execution_count": 18,
   "id": "f3b4085f-d74a-4ef6-b38b-cc7196ccaad0",
   "metadata": {},
   "outputs": [],
   "source": [
    "trbj_counts_r = pandas2ri.py2rpy(trbj_counts_df)\n",
    "%R -i trbj_counts_r"
   ]
  },
  {
   "cell_type": "code",
   "execution_count": 23,
   "id": "704441e9-14a4-4313-ba52-378d78856cba",
   "metadata": {},
   "outputs": [
    {
     "data": {
      "image/png": "[encoded data removed]",
      "text/plain": [
       "<IPython.core.display.Image object>"
      ]
     },
     "metadata": {},
     "output_type": "display_data"
    }
   ],
   "source": [
    "%%R\n",
    "\n",
    "library(ggplot2)\n",
    "\n",
    "ggplot(data = trbj_counts_r, mapping = aes(x = trbj, y = count)) +\n",
    "  geom_bar(stat = \"identity\", width = 0.5, color = \"pink\", fill = \"lightblue\") +\n",
    "  theme(axis.text.x = element_text(angle = 90, hjust = 1))"
   ]
  },
  {
   "cell_type": "code",
   "execution_count": null,
   "id": "ccddecf9-07ad-4ba0-a89c-914273c73c77",
   "metadata": {},
   "outputs": [],
   "source": []
  }
 ],
 "metadata": {
  "kernelspec": {
   "display_name": "Python [conda env:jupyterhub] *",
   "language": "python",
   "name": "conda-env-jupyterhub-py"
  },
  "language_info": {
   "codemirror_mode": {
    "name": "ipython",
    "version": 3
   },
   "file_extension": ".py",
   "mimetype": "text/x-python",
   "name": "python",
   "nbconvert_exporter": "python",
   "pygments_lexer": "ipython3",
   "version": "3.8.12"
  }
 },
 "nbformat": 4,
 "nbformat_minor": 5
}
